{
 "cells": [
  {
   "cell_type": "code",
   "execution_count": 1,
   "id": "8a167d63-78f5-4184-9557-d95099df16bf",
   "metadata": {},
   "outputs": [],
   "source": [
    "#import modules\n",
    "from unittest import result\n",
    "from bs4 import BeautifulSoup\n",
    "import requests\n",
    "import csv\n",
    "import pandas as pd "
   ]
  },
  {
   "cell_type": "code",
   "execution_count": 2,
   "id": "afd67065-2f9b-432f-951a-f13e539dd4be",
   "metadata": {},
   "outputs": [],
   "source": [
    "base_url=\"https://www.jumia.com.tn/\"\n",
    "product_links=[]\n",
    "for x in range(1,12):\n",
    "    result=requests.get(f\"https://www.jumia.com.tn/mlp-cuisine-arts-culinaires/cuisine-cuisson/?tag=Boost&page={x}#catalog-listing\")\n",
    "    #save page content\n",
    "    src = result.content\n",
    "    #print(src)\n",
    "    #Create soup object to parse content\n",
    "    soup = BeautifulSoup(src,\"lxml\")\n",
    "    #print(soup)\n",
    "    #Find elements containing info we need\n",
    "    product_list=soup.find_all(\"article\", {\"class\":\"prd _fb col c-prd\"})\n",
    "    #print(product_list)\n",
    "    for item in product_list:\n",
    "        for link in item.find_all(\"a\",href=True):\n",
    "            product_links.append(base_url + link['href'])\n",
    "information_list=[]\n",
    "for link in product_links:\n",
    "    test=requests.get(link)\n",
    "    #save page content\n",
    "    src = test.content\n",
    "        #print(src)\n",
    "        #Create soup object to parse content\n",
    "    soup = BeautifulSoup(src,\"lxml\")\n",
    "        #print(soup)\n",
    "        #Find elements containing info we need\n",
    "    product_name=soup.find(\"h1\", {\"class\":\"-fs20 -pts -pbxs\"}).text.strip()\n",
    "    product_price=soup.find(\"span\", {\"class\":\"-b -ltr -tal -fs24\"}).text.strip()\n",
    "    product_information = ({'name': product_name ,'price': product_price})\n",
    "    information_list.append(product_information)"
   ]
  },
  {
   "cell_type": "code",
   "execution_count": 3,
   "id": "14002e62-84fb-4ea1-96f1-f9f83f1756a8",
   "metadata": {},
   "outputs": [
    {
     "data": {
      "text/html": [
       "<div>\n",
       "<style scoped>\n",
       "    .dataframe tbody tr th:only-of-type {\n",
       "        vertical-align: middle;\n",
       "    }\n",
       "\n",
       "    .dataframe tbody tr th {\n",
       "        vertical-align: top;\n",
       "    }\n",
       "\n",
       "    .dataframe thead th {\n",
       "        text-align: right;\n",
       "    }\n",
       "</style>\n",
       "<table border=\"1\" class=\"dataframe\">\n",
       "  <thead>\n",
       "    <tr style=\"text-align: right;\">\n",
       "      <th></th>\n",
       "      <th>name</th>\n",
       "      <th>price</th>\n",
       "    </tr>\n",
       "  </thead>\n",
       "  <tbody>\n",
       "    <tr>\n",
       "      <th>0</th>\n",
       "      <td>Falcon Lot de 6 Sahfa Zgougou avec Sous Tasse ...</td>\n",
       "      <td>9.90 TND</td>\n",
       "    </tr>\n",
       "    <tr>\n",
       "      <th>1</th>\n",
       "      <td>Falcon Lot de 12 Sahfa Zgougou avec Sous Tasse...</td>\n",
       "      <td>18.00 TND</td>\n",
       "    </tr>\n",
       "    <tr>\n",
       "      <th>2</th>\n",
       "      <td>Sokany Mixeur 2en1- 400W Blender 1.5L En Verre...</td>\n",
       "      <td>99.00 TND</td>\n",
       "    </tr>\n",
       "    <tr>\n",
       "      <th>3</th>\n",
       "      <td>Passoire inox maille fine</td>\n",
       "      <td>12.51 TND</td>\n",
       "    </tr>\n",
       "    <tr>\n",
       "      <th>4</th>\n",
       "      <td>WINOX Coffret couverts de table 30 Pièces - ZINA</td>\n",
       "      <td>69.90 TND</td>\n",
       "    </tr>\n",
       "    <tr>\n",
       "      <th>5</th>\n",
       "      <td>Chin Hua Cocotte-Minute - Aluminium 6L</td>\n",
       "      <td>94.90 TND</td>\n",
       "    </tr>\n",
       "    <tr>\n",
       "      <th>6</th>\n",
       "      <td>Florence Hachoir électrique - 700W - 3L- HK-326</td>\n",
       "      <td>87.90 TND</td>\n",
       "    </tr>\n",
       "    <tr>\n",
       "      <th>7</th>\n",
       "      <td>Porte - Sac Poubelle - Blanc</td>\n",
       "      <td>8.82 TND</td>\n",
       "    </tr>\n",
       "    <tr>\n",
       "      <th>8</th>\n",
       "      <td>Balsa Lot de 5 boites de rangement en verre av...</td>\n",
       "      <td>105.00 TND</td>\n",
       "    </tr>\n",
       "    <tr>\n",
       "      <th>9</th>\n",
       "      <td>Falcon Lot de 24 Sahfa Zgougou avec Sous Tasse...</td>\n",
       "      <td>34.00 TND</td>\n",
       "    </tr>\n",
       "  </tbody>\n",
       "</table>\n",
       "</div>"
      ],
      "text/plain": [
       "                                                name       price\n",
       "0  Falcon Lot de 6 Sahfa Zgougou avec Sous Tasse ...    9.90 TND\n",
       "1  Falcon Lot de 12 Sahfa Zgougou avec Sous Tasse...   18.00 TND\n",
       "2  Sokany Mixeur 2en1- 400W Blender 1.5L En Verre...   99.00 TND\n",
       "3                          Passoire inox maille fine   12.51 TND\n",
       "4   WINOX Coffret couverts de table 30 Pièces - ZINA   69.90 TND\n",
       "5             Chin Hua Cocotte-Minute - Aluminium 6L   94.90 TND\n",
       "6    Florence Hachoir électrique - 700W - 3L- HK-326   87.90 TND\n",
       "7                       Porte - Sac Poubelle - Blanc    8.82 TND\n",
       "8  Balsa Lot de 5 boites de rangement en verre av...  105.00 TND\n",
       "9  Falcon Lot de 24 Sahfa Zgougou avec Sous Tasse...   34.00 TND"
      ]
     },
     "execution_count": 3,
     "metadata": {},
     "output_type": "execute_result"
    }
   ],
   "source": [
    "df=pd.DataFrame(information_list)\n",
    "df.head(10)"
   ]
  },
  {
   "cell_type": "code",
   "execution_count": 4,
   "id": "b6251092-2662-4719-9cdd-3aa4fee35eba",
   "metadata": {},
   "outputs": [],
   "source": [
    "df.to_csv('jumia_kitchen_and_house_data.csv')"
   ]
  },
  {
   "cell_type": "code",
   "execution_count": null,
   "id": "a97670bd-d1ad-4465-9a3d-e31551b047f9",
   "metadata": {},
   "outputs": [],
   "source": []
  },
  {
   "cell_type": "code",
   "execution_count": null,
   "id": "99c61f18-78a6-4f3b-a1cc-3926f429685b",
   "metadata": {},
   "outputs": [],
   "source": []
  },
  {
   "cell_type": "code",
   "execution_count": null,
   "id": "4c342b96-5b31-4fdd-a15d-c28437cb9006",
   "metadata": {},
   "outputs": [],
   "source": []
  }
 ],
 "metadata": {
  "kernelspec": {
   "display_name": "Python 3 (ipykernel)",
   "language": "python",
   "name": "python3"
  },
  "language_info": {
   "codemirror_mode": {
    "name": "ipython",
    "version": 3
   },
   "file_extension": ".py",
   "mimetype": "text/x-python",
   "name": "python",
   "nbconvert_exporter": "python",
   "pygments_lexer": "ipython3",
   "version": "3.10.7"
  }
 },
 "nbformat": 4,
 "nbformat_minor": 5
}
